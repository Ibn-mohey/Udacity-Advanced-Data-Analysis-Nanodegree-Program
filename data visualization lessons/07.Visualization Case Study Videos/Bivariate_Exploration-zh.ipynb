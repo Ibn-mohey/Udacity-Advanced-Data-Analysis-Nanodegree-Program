{
 "cells": [
  {
   "cell_type": "code",
   "execution_count": null,
   "metadata": {},
   "outputs": [],
   "source": [
    "# import all packages and set plots to be embedded inline\n",
    "import numpy as np\n",
    "import pandas as pd\n",
    "import matplotlib.pyplot as plt\n",
    "import seaborn as sb\n",
    "\n",
    "%matplotlib inline"
   ]
  },
  {
   "cell_type": "code",
   "execution_count": null,
   "metadata": {},
   "outputs": [],
   "source": [
    "# load in the dataset into a pandas dataframe\n",
    "diamonds = pd.read_csv('diamonds.csv')"
   ]
  },
  {
   "cell_type": "code",
   "execution_count": null,
   "metadata": {},
   "outputs": [],
   "source": [
    "# convert cut, color, and clarity into ordered categorical types\n",
    "ordinal_var_dict = {'cut': ['Fair','Good','Very Good','Premium','Ideal'],\n",
    "                    'color': ['J', 'I', 'H', 'G', 'F', 'E', 'D'],\n",
    "                    'clarity': ['I1', 'SI2', 'SI1', 'VS2', 'VS1', 'VVS2', 'VVS1', 'IF']}\n",
    "\n",
    "for var in ordinal_var_dict:\n",
    "    pd_ver = pd.__version__.split(\".\")\n",
    "    if (int(pd_ver[0]) > 0) or (int(pd_ver[1]) >= 21): # v0.21 or later\n",
    "        ordered_var = pd.api.types.CategoricalDtype(ordered = True,\n",
    "                                                    categories = ordinal_var_dict[var])\n",
    "        diamonds[var] = diamonds[var].astype(ordered_var)\n",
    "    else: # pre-v0.21\n",
    "        diamonds[var] = diamonds[var].astype('category', ordered = True,\n",
    "                                             categories = ordinal_var_dict[var])"
   ]
  },
  {
   "cell_type": "markdown",
   "metadata": {},
   "source": [
    "## 双变量数据探索\n",
    "\n",
    "在之前的练习中，你看到了价格，克拉，切工，颜色和净度这五个变量的单变量分布图。接下来我们再来探索各个变量之间的关系，尤其是每个变量跟价格这个变量之间的关系。\n",
    "\n",
    "作为开始，我们先来绘制价格和克拉之间的关系图。它们之间的关系如何呢？"
   ]
  },
  {
   "cell_type": "code",
   "execution_count": null,
   "metadata": {},
   "outputs": [],
   "source": [
    "# bivariate plot of price vs. carat\n"
   ]
  },
  {
   "cell_type": "markdown",
   "metadata": {},
   "source": [
    "价格 vs. 克拉 提示1：<span style=\"color:white\"> 因为它们都属于数值变量，所以首先应想到用散点图。当然，你也可能会考虑用热图。但不管是哪种情况，根据价格的长尾分布，你应该要对价格进行对数变换。如果你还没有的话，那就现在使用对数变换吧。</span>"
   ]
  },
  {
   "cell_type": "markdown",
   "metadata": {},
   "source": [
    "价格vs. 克拉 提示2：<span style=\"color:white\"> 假设你把价格放在 y 轴，克拉放在 x 轴，对价格取对数之后应该会把原先向上凹的散点图（像是向上凹陷的碗）变成向下凹。但如果形状是线性的，不是会更好吗？事实是，变量 x，y 和 z 跟钻石价格的线性趋势比克拉要明显。因为克拉这个变量对于钻石来说更常用一些，让我们对 x 轴上的变量进行数值变换，看看能不能看到更接近线性的趋势。因为重量和体积成正比，而且所有的钻石基本上都是以相同的方式切割的（圆形切割），所以对克拉开立方会让我们看到大致的线性趋势。</span>"
   ]
  },
  {
   "cell_type": "markdown",
   "metadata": {},
   "source": [
    "价格 vs. 克拉 提示3：<span style=\"color:white\"> 进行数值转换之后，你可能会注意到价格和克拉之间的关系在图形上被价格的最高值所截断。根据钻石重量小于 1.5 克拉的趋势，对于重量大于 1.5 克拉的钻石，你可能会预测它的价钱会在 20000 美元左右。之后如果要建立钻石价格的预测模型或者考虑其他变量之间相互作用的时候，你可能需要考虑到这一点。 </span>"
   ]
  },
  {
   "cell_type": "markdown",
   "metadata": {},
   "source": [
    "现在让我们来看一下价格和其他三个分类变量——切工，颜色和净度——之间的关系。是否能观察到任何意料之外的趋势呢？"
   ]
  },
  {
   "cell_type": "code",
   "execution_count": null,
   "metadata": {},
   "outputs": [],
   "source": [
    "# bivariate plots of price vs. cut, color, clarity\n"
   ]
  },
  {
   "cell_type": "markdown",
   "metadata": {},
   "source": [
    "价格vs. 分类变量 提示1：<span style=\"color:white\"> 你可以在这里采取很多不同的方法。如果你创建了一个箱线图，你可能会注意到一些有趣但不符合直觉的地方：钻石价格的中位数怎么随着钻石的质量下降了呢？我们不应该期待相反的情况吗？这个需要进一步的调查。为了显示数据中更多的细节，我们是不是还可以绘制其他图表类型？</span>"
   ]
  },
  {
   "cell_type": "markdown",
   "metadata": {},
   "source": [
    "价格vs. 分类变量 提示2：<span style=\"color:white\"> 从小提琴图表上，你可能会理解中位数价格为什么会有这样的趋势。如果你用分面直方图，也会发现类似的趋势，除非价格在每一个分面上都保持一致，那这个趋势会比较难观察到。对每个有序分类变量，价格出现下降有很多不同的可能性。随着类别水平的上升，你应该能看到价格上涨的趋势，这应该才是符合预期的。但是，你应该也看到了大多数的数据都处在价格较低的模式，这解释了我们之前提到的那个不符合直觉的点。这在净度变量中是最清楚的。让我们继续来探索，看一下能不能进一步诠释这个模式。</span>"
   ]
  },
  {
   "cell_type": "markdown",
   "metadata": {},
   "source": [
    "在我们完成双变量数据探索之前，让我们应该也看一下价格之外的几个因变量之间的关系。也就是说，克拉这个变量如何随着其他有序分类变量类别的变化而变化的？你可以参考之前探索价格的方法。你能在这些图表中看到什么？这跟你之前的发现有什么联系？"
   ]
  },
  {
   "cell_type": "code",
   "execution_count": null,
   "metadata": {},
   "outputs": [],
   "source": [
    "# bivariate plots of carat vs. cut, color, clarity\n"
   ]
  },
  {
   "cell_type": "markdown",
   "metadata": {},
   "source": [
    "克拉vs. 分类变量 提示：<span style=\"color:white\"> 这些图表应该能让你看到更多的信息。越大的钻石越有可能获得较低的分类质量等级，越小的钻石质量等级则相对较高。克拉似乎是决定价格的最重要因素，而钻石质量对价格有着惊人的边际效应。下一个挑战将是如何在多变量可视化中描述这一点。</span>"
   ]
  },
  {
   "cell_type": "code",
   "execution_count": null,
   "metadata": {},
   "outputs": [],
   "source": []
  },
  {
   "cell_type": "code",
   "execution_count": null,
   "metadata": {},
   "outputs": [],
   "source": []
  }
 ],
 "metadata": {
  "kernelspec": {
   "display_name": "Python 3",
   "language": "python",
   "name": "python3"
  },
  "language_info": {
   "codemirror_mode": {
    "name": "ipython",
    "version": 3
   },
   "file_extension": ".py",
   "mimetype": "text/x-python",
   "name": "python",
   "nbconvert_exporter": "python",
   "pygments_lexer": "ipython3",
   "version": "3.6.3"
  }
 },
 "nbformat": 4,
 "nbformat_minor": 2
}
