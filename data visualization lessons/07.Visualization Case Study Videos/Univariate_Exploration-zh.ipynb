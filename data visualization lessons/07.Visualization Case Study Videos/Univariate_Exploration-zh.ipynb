{
 "cells": [
  {
   "cell_type": "code",
   "execution_count": null,
   "metadata": {},
   "outputs": [],
   "source": [
    "# import all packages and set plots to be embedded inline\n",
    "import numpy as np\n",
    "import pandas as pd\n",
    "import matplotlib.pyplot as plt\n",
    "import seaborn as sb\n",
    "\n",
    "%matplotlib inline"
   ]
  },
  {
   "cell_type": "code",
   "execution_count": null,
   "metadata": {},
   "outputs": [],
   "source": [
    "# load in the dataset into a pandas dataframe\n",
    "diamonds = pd.read_csv('diamonds.csv')"
   ]
  },
  {
   "cell_type": "markdown",
   "metadata": {},
   "source": [
    "## 数据总览\n",
    "\n",
    "在正式进入数据探索之前，让我们来看一下数据整体的情况。后期创建可视化的时候，你可以回过头来检查每个变量的统计值。"
   ]
  },
  {
   "cell_type": "code",
   "execution_count": null,
   "metadata": {},
   "outputs": [],
   "source": [
    "# high-level overview of data shape and composition\n",
    "print(diamonds.shape)\n",
    "print(diamonds.dtypes)\n",
    "diamonds.head(10)"
   ]
  },
  {
   "cell_type": "code",
   "execution_count": null,
   "metadata": {},
   "outputs": [],
   "source": [
    "# descriptive statistics for numeric variables\n",
    "diamonds.describe()"
   ]
  },
  {
   "cell_type": "markdown",
   "metadata": {},
   "source": [
    "## 单变量数据探索\n",
    "\n",
    "让我们先看来一个最重要的变量：价格（price）。它的分布是偏斜还是对称？是单峰还是多峰？"
   ]
  },
  {
   "cell_type": "code",
   "execution_count": null,
   "metadata": {},
   "outputs": [],
   "source": [
    "# univariate plot of diamond prices\n"
   ]
  },
  {
   "cell_type": "markdown",
   "metadata": {},
   "source": [
    "> 在这个实战练习中，你经常会看到下面这种 Markdown 格式的单元格，它其实包含对应问题的提示，只是提示文字的颜色被设置为白色。跟之前的练习不同，我们在这里将不会提供任何参考图。你需要自己根据提示来判断你画的图是否满足要求。如果查看这些提示，你可以用光标选中文字进行高亮显示，或者双击每个 Markdown 单元格。如果想一直看到提示，也可以将单元格里的颜色（'color:white'）设为可见的颜色。"
   ]
  },
  {
   "cell_type": "markdown",
   "metadata": {},
   "source": [
    "价格分布 提示1：<span style=\"color:white\"> 因为价格是数值变量，所以你应该使用直方图。但是一开始，你应该能看到钻石的价格分布具有高度的偏斜。所以，你或许应该尝试一下对变量取对数。</span>"
   ]
  },
  {
   "cell_type": "markdown",
   "metadata": {},
   "source": [
    "价格分布 提示2：<span style=\"color:white\"> 在对数刻度下，你应该能看到数据大致上是双峰的 ，其中一个峰值在500到1000之间，第二个峰值在4000到5000之间。而且价格的值似乎在最高值的之后就快速地下降，而不是缓慢地在下降。</span>"
   ]
  },
  {
   "cell_type": "markdown",
   "metadata": {},
   "source": [
    "接下来，为克拉（carat）这个变量画图。你能从中观察到某种模式吗？"
   ]
  },
  {
   "cell_type": "code",
   "execution_count": null,
   "metadata": {},
   "outputs": [],
   "source": [
    "# univariate plot of carat weights\n"
   ]
  },
  {
   "cell_type": "markdown",
   "metadata": {},
   "source": [
    "克拉分布 提示：<span style=\"color:white\">克拉的分布很有意思：它在一个有包含小数点值的位置达到峰值，之后逐渐减小直到第二个峰值。遇到这种情况，最好将每组的区间值设置得较小（比如 0.01），然后再放大这个区域从而更好地观察数据的分布。也许这些峰值属于标准的钻石尺寸？ </span>"
   ]
  },
  {
   "cell_type": "markdown",
   "metadata": {},
   "source": [
    "现在，让我们继续来探索剩下的几个变量：切工（cut），颜色（color）以及净度（clarity）。对每一个变量，我们的数据是偏向更高还是更低的等级？"
   ]
  },
  {
   "cell_type": "code",
   "execution_count": null,
   "metadata": {},
   "outputs": [],
   "source": [
    "# univariate plots of cut, color, and clarity grades\n"
   ]
  },
  {
   "cell_type": "markdown",
   "metadata": {},
   "source": [
    "分类变量 提示：<span style=\"color:white\">因为这些变量都属于分类变量，所以你应该使用条形图。此外，因为它们都属于有序分类变量，所以长条应该有一个从低到高的排序。如果你不记得每个类别的排序顺序，可以回到前一页查看。</span>"
   ]
  },
  {
   "cell_type": "markdown",
   "metadata": {},
   "source": [
    "切工分布 提示：<span style=\"color:white\">这个条形图应该表明数据中大多数钻石的切工质量都属于最高的级别。然后从高到低有一个逐渐降低的过程。</span>"
   ]
  },
  {
   "cell_type": "markdown",
   "metadata": {},
   "source": [
    "颜色分布 提示：<span style=\"color:white\">颜色分布大致上是单峰的，大多数钻石的颜色等级为中间的 G（一定有比J 更差的级别，但是我们的数据都在 J 之上）</span>"
   ]
  },
  {
   "cell_type": "markdown",
   "metadata": {},
   "source": [
    "净度分布 提示：<span style=\"color:white\">数据中净度的分布明显是右偏的，大多数钻石都包含比较少的杂质（SI2, SI1, VS2, VS1）。很少有钻石包含肉眼可见的杂质（I1）。</span>"
   ]
  },
  {
   "cell_type": "code",
   "execution_count": null,
   "metadata": {},
   "outputs": [],
   "source": []
  }
 ],
 "metadata": {
  "kernelspec": {
   "display_name": "Python 3",
   "language": "python",
   "name": "python3"
  },
  "language_info": {
   "codemirror_mode": {
    "name": "ipython",
    "version": 3
   },
   "file_extension": ".py",
   "mimetype": "text/x-python",
   "name": "python",
   "nbconvert_exporter": "python",
   "pygments_lexer": "ipython3",
   "version": "3.6.3"
  }
 },
 "nbformat": 4,
 "nbformat_minor": 2
}
