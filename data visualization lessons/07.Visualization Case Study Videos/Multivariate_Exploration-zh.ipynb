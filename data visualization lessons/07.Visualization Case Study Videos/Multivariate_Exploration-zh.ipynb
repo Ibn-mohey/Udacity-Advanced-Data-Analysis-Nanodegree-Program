{
 "cells": [
  {
   "cell_type": "code",
   "execution_count": null,
   "metadata": {},
   "outputs": [],
   "source": [
    "# import all packages and set plots to be embedded inline\n",
    "import numpy as np\n",
    "import pandas as pd\n",
    "import matplotlib.pyplot as plt\n",
    "import seaborn as sb\n",
    "\n",
    "%matplotlib inline"
   ]
  },
  {
   "cell_type": "code",
   "execution_count": null,
   "metadata": {},
   "outputs": [],
   "source": [
    "# load in the dataset into a pandas dataframe\n",
    "diamonds = pd.read_csv('diamonds.csv')"
   ]
  },
  {
   "cell_type": "code",
   "execution_count": null,
   "metadata": {},
   "outputs": [],
   "source": [
    "# convert cut, color, and clarity into ordered categorical types\n",
    "ordinal_var_dict = {'cut': ['Fair','Good','Very Good','Premium','Ideal'],\n",
    "                    'color': ['J', 'I', 'H', 'G', 'F', 'E', 'D'],\n",
    "                    'clarity': ['I1', 'SI2', 'SI1', 'VS2', 'VS1', 'VVS2', 'VVS1', 'IF']}\n",
    "\n",
    "for var in ordinal_var_dict:\n",
    "    pd_ver = pd.__version__.split(\".\")\n",
    "    if (int(pd_ver[0]) > 0) or (int(pd_ver[1]) >= 21): # v0.21 or later\n",
    "        ordered_var = pd.api.types.CategoricalDtype(ordered = True,\n",
    "                                                    categories = ordinal_var_dict[var])\n",
    "        diamonds[var] = diamonds[var].astype(ordered_var)\n",
    "    else: # pre-v0.21\n",
    "        diamonds[var] = diamonds[var].astype('category', ordered = True,\n",
    "                                             categories = ordinal_var_dict[var])"
   ]
  },
  {
   "cell_type": "markdown",
   "metadata": {},
   "source": [
    "## 多变量数据探索\n",
    "\n",
    "在之前的练习中，你看到了几个双变量之间的关系。你看到了价格的对数与克拉的开立方之间的关系接近于线性，与其长度，宽度和深度类似。你还看到了价格与切工，颜色，净度这些分类变量之间的反常理的关系，即价格中位数随着质量的升高反而降低。更清楚地观察分布的情况以及探索克拉与三个分类变量之间的关系，我们看到原因其实在于钻石的大小和钻石的质量等级之间似乎是负相关的。\n",
    "\n",
    "这次练习的主要目的是用多变量可视化来描绘不同变量之间的交互效应。\n",
    "\n",
    "首先，让我们来创建价格，克拉还有净度之间的关系图。在之前的练习中，你看到了净度和价格以及克拉之间的互动关系非常明显。但在多变量可视化中，这能有多清晰呢？"
   ]
  },
  {
   "cell_type": "code",
   "execution_count": null,
   "metadata": {},
   "outputs": [],
   "source": [
    "# multivariate plot of price by carat weight, and clarity\n"
   ]
  },
  {
   "cell_type": "markdown",
   "metadata": {},
   "source": [
    "价格与克拉和净度之间的关系 提示1：<span style=\"color:white\"> 如果是两个数值变量和一个分类变量，那就有两个图表类型可以选择。在散点图上用颜色表示不同的净度，在理论上似乎合适，但我们的数据太多，会导致很多重叠的情况。在这种情况下，分面散点图或热图其实是更好的选择。</span>"
   ]
  },
  {
   "cell_type": "markdown",
   "metadata": {},
   "source": [
    "价格与克拉和净度之间的关系 提示2：<span style=\"color:white\"> 从不同的分面上，你大概可以看到点大概集中在左边和上方，也就是说钻石越小，价值越高。 作为最后的一个提示，你还记得对价格和克拉要运用数值变换吗？ </span>"
   ]
  },
  {
   "cell_type": "markdown",
   "metadata": {},
   "source": [
    "让我们来画另一个图，这回是价格对切工和颜色。为了避免由钻石大小造成的质量和价格上的明显差别，我们这回应该把重点放在重量偏小的钻石上。在这个图表上，我们主要来看1克拉左右重量的钻石。尽量让你的图表能够表现不同的分类变量对钻石价格的影响。"
   ]
  },
  {
   "cell_type": "code",
   "execution_count": null,
   "metadata": {},
   "outputs": [],
   "source": [
    "# multivariate plot of price by cut and color, for approx. 1 carat diamonds\n"
   ]
  },
  {
   "cell_type": "markdown",
   "metadata": {},
   "source": [
    "价格与切割和颜色之间的关系 提示1:<span style=\"color:white\"> 有很多方式可以画出一个数值变量和两个分类变量之间的关系。 我认为簇型箱型图和簇型点图是最好的两种类型。因为不同类型之间的组合很多（7乘以5为35），小提琴图本身偏狭窄的形状就不是很合适；越简单越好。簇型箱型图或许可以，但是考虑到价格需要取对数，就不是那么理想了。</span>"
   ]
  },
  {
   "cell_type": "markdown",
   "metadata": {},
   "source": [
    "价格与切割和颜色之间的关系 提示2:<span style=\"color:white\">假设你使用了簇型箱形图，你应该可以看到在 x 轴方向上，价格有着缓慢地增长，而且对于第三个变量也是一样的。为了美观起见，你是否还记得給第三个变量选择一个连续型的调色板，而不是用默认的调色板？如果你使用了点图，你有使用 dodge 参数来扩大集群数量吗？</span>"
   ]
  },
  {
   "cell_type": "code",
   "execution_count": null,
   "metadata": {},
   "outputs": [],
   "source": []
  }
 ],
 "metadata": {
  "kernelspec": {
   "display_name": "Python 3",
   "language": "python",
   "name": "python3"
  },
  "language_info": {
   "codemirror_mode": {
    "name": "ipython",
    "version": 3
   },
   "file_extension": ".py",
   "mimetype": "text/x-python",
   "name": "python",
   "nbconvert_exporter": "python",
   "pygments_lexer": "ipython3",
   "version": "3.6.3"
  }
 },
 "nbformat": 4,
 "nbformat_minor": 2
}
