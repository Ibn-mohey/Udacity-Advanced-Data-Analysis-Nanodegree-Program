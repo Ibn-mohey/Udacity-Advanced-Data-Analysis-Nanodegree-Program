{
 "cells": [
  {
   "cell_type": "code",
   "execution_count": null,
   "metadata": {},
   "outputs": [],
   "source": [
    "# prerequisite package imports\n",
    "import numpy as np\n",
    "import pandas as pd\n",
    "import matplotlib.pyplot as plt\n",
    "import seaborn as sb\n",
    "\n",
    "%matplotlib inline\n",
    "\n",
    "from solutions_multiv import encodings_solution_1, encodings_solution_2"
   ]
  },
  {
   "cell_type": "markdown",
   "metadata": {},
   "source": [
    "在此 notebook 里，你将再次使用精灵宝可梦数据"
   ]
  },
  {
   "cell_type": "code",
   "execution_count": null,
   "metadata": {},
   "outputs": [],
   "source": [
    "pokemon = pd.read_csv('./data/pokemon.csv')\n",
    "pokemon.head()"
   ]
  },
  {
   "cell_type": "markdown",
   "metadata": {},
   "source": [
    "**任务1**：首先 让我们来看一下宝可梦战斗值统计数据中，速度（`speed`）、防御（`defense`）和特殊防御（`special-defense`）这三个变量之间的关系。比如，如果某个宝可梦有更高的防御统计数据，那是不是代表它的速度就会比较慢呢？创建一个能够展现两个变量之间关系的图表。"
   ]
  },
  {
   "cell_type": "code",
   "execution_count": null,
   "metadata": {},
   "outputs": [],
   "source": [
    "# YOUR CODE HERE"
   ]
  },
  {
   "cell_type": "code",
   "execution_count": null,
   "metadata": {},
   "outputs": [],
   "source": [
    "# run this cell to check your work against ours\n",
    "encodings_solution_1()"
   ]
  },
  {
   "cell_type": "markdown",
   "metadata": {},
   "source": [
    "要完成第 2 项任务，我们首先要重塑数据，让所有宝可梦的属性（type）都出现在一个列里。.这可能会导致重复项，因为存在两种属性的宝可梦，但对于我们的任务来说是可以接受的。"
   ]
  },
  {
   "cell_type": "code",
   "execution_count": null,
   "metadata": {},
   "outputs": [],
   "source": [
    "type_cols = ['type_1','type_2']\n",
    "non_type_cols = pokemon.columns.difference(type_cols)\n",
    "pkmn_types = pokemon.melt(id_vars = non_type_cols, value_vars = type_cols, \n",
    "                          var_name = 'type_level', value_name = 'type').dropna()\n",
    "pkmn_types.head()"
   ]
  },
  {
   "cell_type": "markdown",
   "metadata": {},
   "source": [
    "**任务 2**：对比 Fairy（仙女系）宝可梦和 Dragon（龙系）宝可梦的体重和身高。在画图之前，建议你先获取数据的子集。**提示**：如果你还记得单变量可视化课上的内容，其中一个坐标轴的变量可能需要进行变换。如果你使用 FacetGrid 函数, 它的 `.set()` 方法将对调整轴缩放和刻度标记至关重要。查看 [Seaborn 文档里的最后一个例子](https://seaborn.pydata.org/generated/seaborn.FacetGrid.html) 里是如何使用`.set()` 方法的，查看 [matplotlib 文档里的 Axes 类](https://matplotlib.org/api/axes_api.html)，看看要设置哪些参数。"
   ]
  },
  {
   "cell_type": "code",
   "execution_count": null,
   "metadata": {},
   "outputs": [],
   "source": [
    "# YOUR CODE HERE"
   ]
  },
  {
   "cell_type": "code",
   "execution_count": null,
   "metadata": {},
   "outputs": [],
   "source": [
    "# run this cell to check your work against ours\n",
    "encodings_solution_2()"
   ]
  }
 ],
 "metadata": {
  "kernelspec": {
   "display_name": "Python 3",
   "language": "python",
   "name": "python3"
  },
  "language_info": {
   "codemirror_mode": {
    "name": "ipython",
    "version": 3
   },
   "file_extension": ".py",
   "mimetype": "text/x-python",
   "name": "python",
   "nbconvert_exporter": "python",
   "pygments_lexer": "ipython3",
   "version": "3.6.3"
  }
 },
 "nbformat": 4,
 "nbformat_minor": 2
}
