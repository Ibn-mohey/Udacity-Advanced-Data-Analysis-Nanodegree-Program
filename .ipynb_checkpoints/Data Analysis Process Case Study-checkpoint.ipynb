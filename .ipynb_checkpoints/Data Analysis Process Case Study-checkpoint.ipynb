{
 "cells": [
  {
   "cell_type": "code",
   "execution_count": 4,
   "metadata": {},
   "outputs": [],
   "source": [
    "import os\n",
    "path = 'E:/career/Dataa/udacity/2. Introduction to Data Analysis/Data Analysis Process Case Study/fuel_economy_datasets'\n",
    "os.chdir(path)"
   ]
  },
  {
   "cell_type": "code",
   "execution_count": 5,
   "metadata": {},
   "outputs": [
    {
     "data": {
      "text/plain": [
       "'E:\\\\career\\\\Dataa\\\\udacity\\\\2. Introduction to Data Analysis\\\\Data Analysis Process Case Study\\\\fuel_economy_datasets'"
      ]
     },
     "execution_count": 5,
     "metadata": {},
     "output_type": "execute_result"
    }
   ],
   "source": [
    "os.getcwd()"
   ]
  },
  {
   "cell_type": "code",
   "execution_count": 11,
   "metadata": {},
   "outputs": [
    {
     "data": {
      "text/plain": [
       "['all_alpha_08.csv',\n",
       " 'all_alpha_18.csv',\n",
       " 'GreenVehicleGuideDocumentation.pdf',\n",
       " 'Readme.txt']"
      ]
     },
     "execution_count": 11,
     "metadata": {},
     "output_type": "execute_result"
    }
   ],
   "source": [
    "os.listdir()"
   ]
  },
  {
   "cell_type": "code",
   "execution_count": 13,
   "metadata": {},
   "outputs": [],
   "source": [
    "# # labels = ['id', 'name', 'attendance', 'hw', 'test1', 'project1', 'test2', 'project2', 'final']\n",
    "# # df = pd.read_csv('student_scores.csv', names=labels)\n",
    "# # # labels = ['id', 'name', 'attendance', 'hw', 'test1', 'project1', 'test2', 'project2', 'final']\n",
    "# # df = pd.read_csv('student_scores.csv', header=0, names=labels)\n",
    "# # \n",
    "# # df = pd.read_csv('student_scores.csv', index_col='Name')\n",
    "# # df.head()\n",
    "# # df_powerplant.to_csv('powerplant_data_edited.csv', index=False)\n",
    "# ## this returns a tuple of the dimensions of the dataframe\n",
    "# # df.shape\n",
    "# # this returns the datatypes of the columns\n",
    "# df.dtypes\n",
    "# # although the datatype for diagnosis appears to be object, further\n",
    "# # investigation shows it's a string\n",
    "# type(df['diagnosis'][0])\n",
    "# # this displays a concise summary of the dataframe,\n",
    "# # including the number of non-null values in each column\n",
    "# df.info()\n",
    "# # this returns the number of unique values in each column\n",
    "# df.nunique()\n",
    "# # this returns useful descriptive statistics for each column of data\n",
    "# df.describe()\n",
    "# # View the index number and label for each column\n",
    "# for i, v in enumerate(df.columns):\n",
    "#     print(i, v)\n",
    "    \n",
    "# # select all the columns from 'id' to the last mean column\n",
    "# df_means = df.loc[:,'id':'fractal_dimension_mean']\n",
    "# df_means.head()\n",
    "\n",
    "# # repeat the step above using index numbers\n",
    "# df_means = df.iloc[:,:12]\n",
    "\n",
    "# df_means = df.iloc[:, np.r_[0,1, 12:22]]\n",
    "\n",
    "# # columns with missing values\n",
    "# df.columns[df.isnull().any()]\n",
    "\n",
    "# #rename\n",
    "# df.rename(columns={'hours-per-week':'hours_per_week'}, inplace=True)\n",
    "\n",
    "# # 75th percentile of hours-per-week\n",
    "# df.hours_per_week.quantile([0.75])\n",
    "\n",
    "# u = df.columns[df.isnull().any()]\n",
    "\n",
    "# for column in df.columns[df.isnull().any()]:\n",
    "#     print (column)\n",
    "    \n",
    "# # use means to fill in missing values\n",
    "# for column in df.columns[df.isnull().any()]:\n",
    "#     mean= df[column].mean()\n",
    "#     df[column].fillna(mean, inplace = True)\n",
    "# # confirm your correction with info()\n",
    "# df.columns[df.isnull().any()]\n",
    "\n",
    "# # check for duplicates in the data\n",
    "# sum(df.duplicated())\n",
    "\n",
    "# # drop duplicates\n",
    "# df.drop_duplicates(inplace = True)\n",
    "\n",
    "# # remove \"_mean\" from column names\n",
    "# new_labels = []\n",
    "# for col in df.columns:\n",
    "#     if '_mean' in col:\n",
    "#         new_labels.append(col[:-5])  # exclude last 6 characters\n",
    "#     else:\n",
    "#         new_labels.append(col)\n",
    "\n",
    "# # new labels for our columns\n",
    "# new_labels\n",
    "\n",
    "# df.columns = new_labels\n",
    "\n",
    "\n",
    "# % matplotlib inline\n",
    "# import matplotlib.pyplot as plt\n",
    "# df.hist(figsize= (8,8));\n",
    "\n",
    "# df.plot(x='temperature', y='energy_output', kind='scatter');\n",
    "\n",
    "\n",
    "# for c in df.columns:\n",
    "#     df[c].plot(kind = \"box\")\n",
    "#     plt.show()\n",
    "    \n",
    "# df['week'] = pd.to_datetime(df[\"week\"])\n",
    "\n",
    "# df['week'] = pd.to_datetime(df[\"week\"])\n",
    "# (df[df['week'] >= '2018-02-01'].sum()).plot(kind = \"bar\")\n",
    "\n",
    "# df.mean().plot(kind='pie');\n",
    "\n",
    "# sales = df[df['week'] == '2016-03-13']\n",
    "# sales.iloc[0, 1:].plot(kind='bar');\n",
    "\n",
    "# last_three_months = df[df['week'] >= '2017-12-01']\n",
    "# last_three_months.iloc[:, 1:].sum().plot(kind='pie')\n",
    "\n"
   ]
  },
  {
   "cell_type": "code",
   "execution_count": 10,
   "metadata": {},
   "outputs": [],
   "source": [
    "import numpy as np \n",
    "import pandas as pd\n",
    "% matplotlib inline\n",
    "import matplotlib.pyplot as plt"
   ]
  },
  {
   "cell_type": "code",
   "execution_count": null,
   "metadata": {},
   "outputs": [],
   "source": []
  }
 ],
 "metadata": {
  "kernelspec": {
   "display_name": "Python 3",
   "language": "python",
   "name": "python3"
  },
  "language_info": {
   "codemirror_mode": {
    "name": "ipython",
    "version": 3
   },
   "file_extension": ".py",
   "mimetype": "text/x-python",
   "name": "python",
   "nbconvert_exporter": "python",
   "pygments_lexer": "ipython3",
   "version": "3.8.2"
  }
 },
 "nbformat": 4,
 "nbformat_minor": 4
}
